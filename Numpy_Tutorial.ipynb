{
 "cells": [
  {
   "cell_type": "markdown",
   "metadata": {
    "id": "ZUAaSe6B5XlQ"
   },
   "source": [
    "# NUMPY                   \n",
    "                                                         -SREEKESH M, sreekeshm77@gmail.com\n",
    "                                                          \n",
    "**Numpy** is a powerful open-source python library used for numerical computations. it provides support for working with large, multi-dimensional arrays and matrices, along with a wide range of mathe,matical functions to operate on these arrays."
   ]
  },
  {
   "cell_type": "markdown",
   "metadata": {
    "id": "CuRB6XzT7Pqx"
   },
   "source": [
    "## KEY FEATURES OF NUMPY\n",
    "\n",
    "\n",
    "1.   **Multi-dimensional Arrays :** At its core, NumPy provides the\n",
    "ndarray object, which allows the efficient storage and operations on multi-dimensional data.\n",
    "2.   **Mathematical Functions :** Includes built-in functions for Linear algebra, Fourier transforms, statistical operations, etc....\n",
    "\n",
    "1.   **High Performance :** Written in C, it is significantly faster than Python's built-in data structures, like lists.\n",
    "\n",
    "\n",
    "\n",
    "\n"
   ]
  },
  {
   "cell_type": "code",
   "execution_count": 1,
   "metadata": {
    "colab": {
     "base_uri": "https://localhost:8080/"
    },
    "id": "X37rytTc84b4",
    "outputId": "1cc44b77-73be-4fe6-d504-609fba1f84fd"
   },
   "outputs": [
    {
     "name": "stdout",
     "output_type": "stream",
     "text": [
      "Requirement already satisfied: numpy in c:\\users\\hp\\anaconda3\\lib\\site-packages (1.26.4)\n"
     ]
    }
   ],
   "source": [
    "# Installation of numpy\n",
    "!pip install numpy"
   ]
  },
  {
   "cell_type": "code",
   "execution_count": 2,
   "metadata": {
    "id": "an1KTn4Q9EIJ"
   },
   "outputs": [],
   "source": [
    "#importing numpy to our notebook\n",
    "import numpy as np"
   ]
  },
  {
   "cell_type": "markdown",
   "metadata": {
    "id": "b9sUofqR9UCT"
   },
   "source": [
    "## CREATING ARRAYS"
   ]
  },
  {
   "cell_type": "code",
   "execution_count": 3,
   "metadata": {
    "colab": {
     "base_uri": "https://localhost:8080/"
    },
    "id": "TJqWcZy59XIL",
    "outputId": "cadc0c45-1ec4-4055-9434-f5b6fb788649"
   },
   "outputs": [
    {
     "name": "stdout",
     "output_type": "stream",
     "text": [
      "[1 2 3 4 5]\n"
     ]
    }
   ],
   "source": [
    "# 1-d array\n",
    "arr_1 = np.array([1,2,3,4,5])\n",
    "print(arr_1)"
   ]
  },
  {
   "cell_type": "code",
   "execution_count": 4,
   "metadata": {
    "colab": {
     "base_uri": "https://localhost:8080/"
    },
    "id": "paJpT2Tl9g_F",
    "outputId": "38b0f2b3-dc3d-4b9b-e4a5-578b8186afbd"
   },
   "outputs": [
    {
     "name": "stdout",
     "output_type": "stream",
     "text": [
      "[[1 2 3]\n",
      " [1 2 3]]\n"
     ]
    }
   ],
   "source": [
    "#2-d array\n",
    "arr_2 = np.array([[1,2,3],[1,2,3]])\n",
    "print(arr_2)"
   ]
  },
  {
   "cell_type": "code",
   "execution_count": 5,
   "metadata": {
    "colab": {
     "base_uri": "https://localhost:8080/"
    },
    "id": "6Lh_dSj992op",
    "outputId": "8a7c4066-74b0-4fab-e36f-bd5c6e59be43"
   },
   "outputs": [
    {
     "name": "stdout",
     "output_type": "stream",
     "text": [
      "[[[1 2]\n",
      "  [1 2]\n",
      "  [1 2]]]\n"
     ]
    }
   ],
   "source": [
    "#3-d array\n",
    "arr_3=np.array([[[1,2],[1,2],[1,2]]])\n",
    "print(arr_3)"
   ]
  },
  {
   "cell_type": "code",
   "execution_count": 6,
   "metadata": {
    "colab": {
     "base_uri": "https://localhost:8080/"
    },
    "id": "ILhd7W0y-FRh",
    "outputId": "8e0bf89c-5fa9-4f57-b008-0e6aea859c1d"
   },
   "outputs": [
    {
     "name": "stdout",
     "output_type": "stream",
     "text": [
      "[[0. 0. 0.]\n",
      " [0. 0. 0.]\n",
      " [0. 0. 0.]]\n",
      "[[0 0 0]\n",
      " [0 0 0]\n",
      " [0 0 0]]\n"
     ]
    }
   ],
   "source": [
    "# array of zeros\n",
    "zeros_1=np.zeros((3,3)) #(3,3) indicates 3 rows & 3 columns\n",
    "print(zeros_1)\n",
    "zeros_2=np.zeros((3,3),int)  #by default, the values in arrays are float, wecan convert them into int\n",
    "print(zeros_2)\n"
   ]
  },
  {
   "cell_type": "code",
   "execution_count": 7,
   "metadata": {
    "colab": {
     "base_uri": "https://localhost:8080/"
    },
    "id": "NjLJJprf-ahd",
    "outputId": "8381edb2-a056-45b3-c070-1182bf0cd73b"
   },
   "outputs": [
    {
     "name": "stdout",
     "output_type": "stream",
     "text": [
      "[[1 1 1]\n",
      " [1 1 1]\n",
      " [1 1 1]]\n"
     ]
    }
   ],
   "source": [
    "# ones array\n",
    "ones=np.ones((3,3),int)\n",
    "print(ones)"
   ]
  },
  {
   "cell_type": "code",
   "execution_count": 8,
   "metadata": {
    "colab": {
     "base_uri": "https://localhost:8080/"
    },
    "id": "m8_vQFZ7-prv",
    "outputId": "c1252e0f-b920-4b24-a403-b4570e02f69d"
   },
   "outputs": [
    {
     "name": "stdout",
     "output_type": "stream",
     "text": [
      "[[1 0 0]\n",
      " [0 1 0]\n",
      " [0 0 1]]\n"
     ]
    }
   ],
   "source": [
    "# Identity matrix\n",
    "#For an identity matrix, the number of rows = number of columns, Therefore no need to specify both number of rows and columns\n",
    "identity=np.eye(3,dtype=int) #by default it  is also float, we can convert them into int.\n",
    "print(identity)"
   ]
  },
  {
   "cell_type": "code",
   "execution_count": 9,
   "metadata": {
    "colab": {
     "base_uri": "https://localhost:8080/"
    },
    "id": "AhAroXTJ_rtw",
    "outputId": "76588dce-1b7f-4d23-91df-1d3068a87bbc"
   },
   "outputs": [
    {
     "name": "stdout",
     "output_type": "stream",
     "text": [
      "[[0.0109738  0.14760531 0.77381382]\n",
      " [0.40188254 0.22170211 0.37721007]\n",
      " [0.80323206 0.23924232 0.65669823]]\n"
     ]
    }
   ],
   "source": [
    "#Random Array\n",
    "random_arr=np.random.rand(3,3)# choose 3 x 3 array with values ranging between 0 & 1\n",
    "print(random_arr)"
   ]
  },
  {
   "cell_type": "code",
   "execution_count": 10,
   "metadata": {
    "colab": {
     "base_uri": "https://localhost:8080/"
    },
    "id": "S2wcJo45BBfr",
    "outputId": "5ae99690-f146-4797-fcf0-9ea2affe0676"
   },
   "outputs": [
    {
     "name": "stdout",
     "output_type": "stream",
     "text": [
      "[[1 3 7]\n",
      " [5 9 9]\n",
      " [5 1 7]]\n"
     ]
    }
   ],
   "source": [
    "random_1 = np.random.randint(1,10,(3,3)) # creates an 3 x 3 array with int values ranging between 1 & 10, exclude 10\n",
    "print(random_1)"
   ]
  },
  {
   "cell_type": "code",
   "execution_count": 11,
   "metadata": {
    "colab": {
     "base_uri": "https://localhost:8080/"
    },
    "id": "xtZrJbgvBhmO",
    "outputId": "71ff5922-af0e-443b-f1b1-3322aa623076"
   },
   "outputs": [
    {
     "name": "stdout",
     "output_type": "stream",
     "text": [
      "[1 3 5]\n"
     ]
    }
   ],
   "source": [
    "# Range Array\n",
    "range_arr= np.arange(1,7,2) # start, stop, step (exclude 7)\n",
    "print(range_arr)"
   ]
  },
  {
   "cell_type": "code",
   "execution_count": 12,
   "metadata": {
    "colab": {
     "base_uri": "https://localhost:8080/"
    },
    "id": "Igg5RF0LC5Az",
    "outputId": "11aa5b42-c241-47be-fe57-a3565ca12fbc"
   },
   "outputs": [
    {
     "name": "stdout",
     "output_type": "stream",
     "text": [
      "[ 2.  4.  6.  8. 10.]\n"
     ]
    }
   ],
   "source": [
    "#Linspace\n",
    "lin=np.linspace(2,10,5) #start,stop, number of values  (equal spacing)\n",
    "print(lin)"
   ]
  },
  {
   "cell_type": "markdown",
   "metadata": {
    "id": "ol0_BazlGbGB"
   },
   "source": [
    "## ARRAY PPROPERTIES"
   ]
  },
  {
   "cell_type": "code",
   "execution_count": 13,
   "metadata": {
    "colab": {
     "base_uri": "https://localhost:8080/"
    },
    "id": "o0jUqjrMDaBe",
    "outputId": "159a5b10-fa4f-4ff5-bad3-4519beb57ea5"
   },
   "outputs": [
    {
     "data": {
      "text/plain": [
       "(2, 3)"
      ]
     },
     "execution_count": 13,
     "metadata": {},
     "output_type": "execute_result"
    }
   ],
   "source": [
    "arr_2.shape #shape of the array"
   ]
  },
  {
   "cell_type": "code",
   "execution_count": 14,
   "metadata": {
    "colab": {
     "base_uri": "https://localhost:8080/"
    },
    "id": "5WnLzt89Gqci",
    "outputId": "61702ccb-5c28-4a43-905e-bd85d05c6ab1"
   },
   "outputs": [
    {
     "data": {
      "text/plain": [
       "6"
      ]
     },
     "execution_count": 14,
     "metadata": {},
     "output_type": "execute_result"
    }
   ],
   "source": [
    "arr_2.size #total number of elements"
   ]
  },
  {
   "cell_type": "code",
   "execution_count": 15,
   "metadata": {
    "colab": {
     "base_uri": "https://localhost:8080/"
    },
    "id": "4BequLxYHC60",
    "outputId": "fffaefbf-b329-4120-e4cb-06cb6597b828"
   },
   "outputs": [
    {
     "data": {
      "text/plain": [
       "2"
      ]
     },
     "execution_count": 15,
     "metadata": {},
     "output_type": "execute_result"
    }
   ],
   "source": [
    "arr_2.ndim #number of dimensions"
   ]
  },
  {
   "cell_type": "code",
   "execution_count": 16,
   "metadata": {
    "colab": {
     "base_uri": "https://localhost:8080/"
    },
    "id": "gNduRdHKHFSV",
    "outputId": "880f4b34-797e-484a-e44f-862a5085475c"
   },
   "outputs": [
    {
     "data": {
      "text/plain": [
       "dtype('int32')"
      ]
     },
     "execution_count": 16,
     "metadata": {},
     "output_type": "execute_result"
    }
   ],
   "source": [
    "arr_2.dtype #data type of elements"
   ]
  },
  {
   "cell_type": "code",
   "execution_count": 17,
   "metadata": {
    "colab": {
     "base_uri": "https://localhost:8080/"
    },
    "id": "JJfFzeJUHI7u",
    "outputId": "eecbb989-845a-4c67-9b0d-3ed51d26e498"
   },
   "outputs": [
    {
     "data": {
      "text/plain": [
       "numpy.ndarray"
      ]
     },
     "execution_count": 17,
     "metadata": {},
     "output_type": "execute_result"
    }
   ],
   "source": [
    "type(arr_2) #type of array"
   ]
  },
  {
   "cell_type": "markdown",
   "metadata": {
    "id": "yCB924OJHRx3"
   },
   "source": [
    "## ARRAY RESHAPING"
   ]
  },
  {
   "cell_type": "code",
   "execution_count": 18,
   "metadata": {
    "colab": {
     "base_uri": "https://localhost:8080/"
    },
    "id": "pE7o6mp3HVBu",
    "outputId": "86fee066-e9bb-41e0-ab9a-cd2c045fc078"
   },
   "outputs": [
    {
     "name": "stdout",
     "output_type": "stream",
     "text": [
      "[[1 2]\n",
      " [3 1]\n",
      " [2 3]]\n"
     ]
    }
   ],
   "source": [
    "reshaped = arr_2.reshape(3,2) #reshaping the array\n",
    "print(reshaped)"
   ]
  },
  {
   "cell_type": "code",
   "execution_count": 19,
   "metadata": {
    "colab": {
     "base_uri": "https://localhost:8080/"
    },
    "id": "UcYO3mBWHe4h",
    "outputId": "340ffe8c-f7b8-4151-ee8b-cdd78fc04007"
   },
   "outputs": [
    {
     "name": "stdout",
     "output_type": "stream",
     "text": [
      "[1 2 3 1 2 3]\n"
     ]
    }
   ],
   "source": [
    "flattened = arr_2.flatten() #flattening the array  2d ---> 1d\n",
    "print(flattened)"
   ]
  },
  {
   "cell_type": "markdown",
   "metadata": {
    "id": "J8-sAMnWIEEt"
   },
   "source": [
    "## ARRAY INDEXING & SLICING"
   ]
  },
  {
   "cell_type": "code",
   "execution_count": 20,
   "metadata": {
    "colab": {
     "base_uri": "https://localhost:8080/"
    },
    "id": "pfxlWpFYHo3y",
    "outputId": "3d44d4ac-a621-45ee-ce34-1551f2bd2529"
   },
   "outputs": [
    {
     "name": "stdout",
     "output_type": "stream",
     "text": [
      "[[2 4 5]\n",
      " [6 8 2]\n",
      " [9 3 7]]\n"
     ]
    }
   ],
   "source": [
    "\n",
    "arr=np.random.randint(1,10,(3,3))\n",
    "print(arr)"
   ]
  },
  {
   "cell_type": "code",
   "execution_count": 21,
   "metadata": {
    "colab": {
     "base_uri": "https://localhost:8080/"
    },
    "id": "kcU9NLPpIX0P",
    "outputId": "1dac0cd0-c132-422b-e981-2eb5b887409e"
   },
   "outputs": [
    {
     "data": {
      "text/plain": [
       "array([2, 4, 5])"
      ]
     },
     "execution_count": 21,
     "metadata": {},
     "output_type": "execute_result"
    }
   ],
   "source": [
    "#Basic Indexing\n",
    "arr[0] #first row"
   ]
  },
  {
   "cell_type": "code",
   "execution_count": 22,
   "metadata": {
    "colab": {
     "base_uri": "https://localhost:8080/"
    },
    "id": "EKjNG_FUIhaR",
    "outputId": "e82a7aa2-0d70-45b2-cd6a-83e0438cb00a"
   },
   "outputs": [
    {
     "data": {
      "text/plain": [
       "array([6, 8, 2])"
      ]
     },
     "execution_count": 22,
     "metadata": {},
     "output_type": "execute_result"
    }
   ],
   "source": [
    "arr[1] # second row"
   ]
  },
  {
   "cell_type": "code",
   "execution_count": 23,
   "metadata": {
    "colab": {
     "base_uri": "https://localhost:8080/"
    },
    "id": "oGN_FrZfIpRC",
    "outputId": "6f1ec30f-ea1e-4376-9c8e-3c5bca8709ff"
   },
   "outputs": [
    {
     "data": {
      "text/plain": [
       "5"
      ]
     },
     "execution_count": 23,
     "metadata": {},
     "output_type": "execute_result"
    }
   ],
   "source": [
    "arr[0][2] # first row and third column"
   ]
  },
  {
   "cell_type": "code",
   "execution_count": 24,
   "metadata": {
    "colab": {
     "base_uri": "https://localhost:8080/"
    },
    "id": "DmAC4a6qI54E",
    "outputId": "a67f2ccc-b7a5-419e-c909-9a91355421d7"
   },
   "outputs": [
    {
     "data": {
      "text/plain": [
       "array([[2, 4, 5],\n",
       "       [6, 8, 2]])"
      ]
     },
     "execution_count": 24,
     "metadata": {},
     "output_type": "execute_result"
    }
   ],
   "source": [
    "#slicing\n",
    "arr[0:2] #first two rows"
   ]
  },
  {
   "cell_type": "code",
   "execution_count": 25,
   "metadata": {
    "colab": {
     "base_uri": "https://localhost:8080/"
    },
    "id": "Pmt4VSTHJRFA",
    "outputId": "5976abd0-09fa-462b-d91c-e98c6c94c46b"
   },
   "outputs": [
    {
     "data": {
      "text/plain": [
       "array([[2, 4],\n",
       "       [6, 8]])"
      ]
     },
     "execution_count": 25,
     "metadata": {},
     "output_type": "execute_result"
    }
   ],
   "source": [
    "arr[0:2,0:2] #first two rows and first two columns"
   ]
  },
  {
   "cell_type": "code",
   "execution_count": 26,
   "metadata": {
    "colab": {
     "base_uri": "https://localhost:8080/"
    },
    "id": "yAihwVRCJfI4",
    "outputId": "f7374c8d-8946-435e-af5c-fab39bfeabc9"
   },
   "outputs": [
    {
     "name": "stdout",
     "output_type": "stream",
     "text": [
      "[[2 4 5]\n",
      " [9 3 7]]\n"
     ]
    }
   ],
   "source": [
    "fancy=arr[[0,2]] #fancy indexing ----pick rows with indices 0,2\n",
    "print(fancy)"
   ]
  },
  {
   "cell_type": "code",
   "execution_count": 27,
   "metadata": {
    "colab": {
     "base_uri": "https://localhost:8080/"
    },
    "id": "ruauAAgtJp3j",
    "outputId": "5aa806c4-159b-4e0f-d338-6a3d35d3c703"
   },
   "outputs": [
    {
     "name": "stdout",
     "output_type": "stream",
     "text": [
      "[4 7]\n"
     ]
    }
   ],
   "source": [
    "fancy=arr[[0,2],[1,2]] #fancy indexing ----pick rows with indices 0,2 and columns with indices 1,2\n",
    "print(fancy)"
   ]
  },
  {
   "cell_type": "markdown",
   "metadata": {
    "id": "d3ivCFaqKtGc"
   },
   "source": [
    "## ARRAY OPERATIONS"
   ]
  },
  {
   "cell_type": "code",
   "execution_count": 28,
   "metadata": {
    "colab": {
     "base_uri": "https://localhost:8080/"
    },
    "id": "J4DhZhBgKw_8",
    "outputId": "71d1abbe-7688-4cbc-e388-424a1e6aec35"
   },
   "outputs": [
    {
     "name": "stdout",
     "output_type": "stream",
     "text": [
      "[5 7 9]\n",
      "[-3 -3 -3]\n",
      "[ 4 10 18]\n",
      "[0.25 0.4  0.5 ]\n",
      "[2 4 6]\n"
     ]
    }
   ],
   "source": [
    "#Arithematic\n",
    "arr1=np.array([1,2,3])\n",
    "arr2=np.array([4,5,6])\n",
    "print(arr1+arr2) # element wise addition\n",
    "print(arr1-arr2) # element wise sub\n",
    "print(arr1*arr2) # element wise multiplication\n",
    "print(arr1/arr2) # element wise division\n",
    "print(arr1*2) # scalar multiplication"
   ]
  },
  {
   "cell_type": "code",
   "execution_count": 29,
   "metadata": {
    "colab": {
     "base_uri": "https://localhost:8080/"
    },
    "id": "lcc-UMFCLeqC",
    "outputId": "310b44a9-2c3a-4184-dafd-ba642683411b"
   },
   "outputs": [
    {
     "name": "stdout",
     "output_type": "stream",
     "text": [
      "[[19 22]\n",
      " [43 50]]\n"
     ]
    }
   ],
   "source": [
    "# Matrix Multiplication\n",
    "arr1=np.array([[1,2],[3,4]])\n",
    "arr2=np.array([[5,6],[7,8]])\n",
    "print(np.dot(arr1,arr2))"
   ]
  },
  {
   "cell_type": "code",
   "execution_count": 30,
   "metadata": {
    "colab": {
     "base_uri": "https://localhost:8080/"
    },
    "id": "Hz72PbOIMFkH",
    "outputId": "0870bff0-71c0-4ee1-f0cb-077692644bcf"
   },
   "outputs": [
    {
     "name": "stdout",
     "output_type": "stream",
     "text": [
      "2.5\n",
      "1.118033988749895\n",
      "2.5\n",
      "10\n",
      "4\n",
      "1\n"
     ]
    }
   ],
   "source": [
    "# Statistical Operations\n",
    "mean=np.mean(arr1)\n",
    "print(mean)\n",
    "std=np.std(arr1) # standard deviation\n",
    "print(std)\n",
    "median=np.median(arr1)\n",
    "print(median)\n",
    "sum_all=np.sum(arr1)\n",
    "print(sum_all)\n",
    "max_value=np.max(arr1)\n",
    "print(max_value)\n",
    "min_value=np.min(arr1)\n",
    "print(min_value)"
   ]
  },
  {
   "cell_type": "code",
   "execution_count": 31,
   "metadata": {
    "colab": {
     "base_uri": "https://localhost:8080/"
    },
    "id": "xEO9y73dMxIz",
    "outputId": "9686cd26-cd77-4a13-a83a-780c8b9d52f7"
   },
   "outputs": [
    {
     "name": "stdout",
     "output_type": "stream",
     "text": [
      "[4 6]\n"
     ]
    }
   ],
   "source": [
    "#Aggregations\n",
    "arr1=np.array([[1,2],[3,4]])\n",
    "col_sum=np.sum(arr1,axis=0) #column wise sum\n",
    "print(col_sum)\n"
   ]
  },
  {
   "cell_type": "code",
   "execution_count": 32,
   "metadata": {
    "colab": {
     "base_uri": "https://localhost:8080/"
    },
    "id": "8lOmcjgeM4zu",
    "outputId": "dab73135-7cf7-4946-db5e-14cdd5905a57"
   },
   "outputs": [
    {
     "name": "stdout",
     "output_type": "stream",
     "text": [
      "[3 7]\n"
     ]
    }
   ],
   "source": [
    "row_sum=np.sum(arr1,axis=1) #row wise sum\n",
    "print(row_sum)"
   ]
  },
  {
   "cell_type": "code",
   "execution_count": 33,
   "metadata": {
    "colab": {
     "base_uri": "https://localhost:8080/"
    },
    "id": "tHLyAe8aM-bW",
    "outputId": "ef357844-91a7-4dd5-80fe-52e58caa719a"
   },
   "outputs": [
    {
     "name": "stdout",
     "output_type": "stream",
     "text": [
      "[4 5]\n"
     ]
    }
   ],
   "source": [
    "#Conditions\n",
    "arr = np.array([1, 2, 3, 4, 5])\n",
    "condition = arr > 3\n",
    "filtered = arr[condition]  # Returns [4, 5]\n",
    "print(filtered)\n"
   ]
  },
  {
   "cell_type": "code",
   "execution_count": 34,
   "metadata": {
    "colab": {
     "base_uri": "https://localhost:8080/"
    },
    "id": "H7KF6o-9Nk7j",
    "outputId": "d30b6f9b-7c7e-4429-8aff-933115eb4727"
   },
   "outputs": [
    {
     "name": "stdout",
     "output_type": "stream",
     "text": [
      "[[1 3]\n",
      " [2 4]]\n"
     ]
    }
   ],
   "source": [
    "#Transpose ----> all rows to columns and vice versa\n",
    "tr = arr1.T\n",
    "print(tr)"
   ]
  },
  {
   "cell_type": "code",
   "execution_count": 35,
   "metadata": {
    "colab": {
     "base_uri": "https://localhost:8080/"
    },
    "id": "SNQLYR5DN9xW",
    "outputId": "1b6b5f89-9528-43d7-dc95-160c840a489a"
   },
   "outputs": [
    {
     "name": "stdout",
     "output_type": "stream",
     "text": [
      "[1 2 3 4 5]\n"
     ]
    }
   ],
   "source": [
    "sorting=np.sort(arr)\n",
    "print(sorting)"
   ]
  },
  {
   "cell_type": "code",
   "execution_count": 36,
   "metadata": {
    "colab": {
     "base_uri": "https://localhost:8080/"
    },
    "id": "sWuN0neUOOSx",
    "outputId": "958035ae-e043-421d-fcf1-252a4def4538"
   },
   "outputs": [
    {
     "name": "stdout",
     "output_type": "stream",
     "text": [
      "[[1 2]\n",
      " [3 4]\n",
      " [5 6]\n",
      " [7 8]]\n"
     ]
    }
   ],
   "source": [
    "#concat\n",
    "concat = np.concatenate((arr1, arr2), axis=0)  # Along rows\n",
    "print(concat)"
   ]
  },
  {
   "cell_type": "code",
   "execution_count": 37,
   "metadata": {
    "id": "OwrdEhwbRqRR"
   },
   "outputs": [],
   "source": [
    "#stacking\n",
    "vstack = np.vstack((arr1, arr2))  # Vertical stack\n",
    "hstack = np.hstack((arr1, arr2))  # Horizontal stack"
   ]
  },
  {
   "cell_type": "code",
   "execution_count": 38,
   "metadata": {
    "colab": {
     "base_uri": "https://localhost:8080/"
    },
    "id": "mqeiOcBFRyQi",
    "outputId": "cd092991-d67b-42e4-c268-f318bb5be793"
   },
   "outputs": [
    {
     "name": "stdout",
     "output_type": "stream",
     "text": [
      "[[1 2]\n",
      " [3 4]\n",
      " [5 6]\n",
      " [7 8]]\n"
     ]
    }
   ],
   "source": [
    "print(vstack)"
   ]
  },
  {
   "cell_type": "code",
   "execution_count": 39,
   "metadata": {
    "colab": {
     "base_uri": "https://localhost:8080/"
    },
    "id": "-IzUBORQR1zi",
    "outputId": "887e3fbc-3532-4583-cf63-9ba9cf71f1b5"
   },
   "outputs": [
    {
     "name": "stdout",
     "output_type": "stream",
     "text": [
      "[[1 2 5 6]\n",
      " [3 4 7 8]]\n"
     ]
    }
   ],
   "source": [
    "print(hstack)"
   ]
  },
  {
   "cell_type": "code",
   "execution_count": null,
   "metadata": {
    "id": "wWkjU93YR6-q"
   },
   "outputs": [],
   "source": []
  }
 ],
 "metadata": {
  "colab": {
   "provenance": []
  },
  "kernelspec": {
   "display_name": "Python 3 (ipykernel)",
   "language": "python",
   "name": "python3"
  },
  "language_info": {
   "codemirror_mode": {
    "name": "ipython",
    "version": 3
   },
   "file_extension": ".py",
   "mimetype": "text/x-python",
   "name": "python",
   "nbconvert_exporter": "python",
   "pygments_lexer": "ipython3",
   "version": "3.12.4"
  }
 },
 "nbformat": 4,
 "nbformat_minor": 4
}
